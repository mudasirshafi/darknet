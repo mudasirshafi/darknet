{
  "nbformat": 4,
  "nbformat_minor": 0,
  "metadata": {
    "colab": {
      "provenance": [],
      "collapsed_sections": [],
      "authorship_tag": "ABX9TyMpLzPcdeaxES+tohMJDnee",
      "include_colab_link": true
    },
    "kernelspec": {
      "name": "python3",
      "display_name": "Python 3"
    },
    "language_info": {
      "name": "python"
    }
  },
  "cells": [
    {
      "cell_type": "markdown",
      "metadata": {
        "id": "view-in-github",
        "colab_type": "text"
      },
      "source": [
        "<a href=\"https://colab.research.google.com/github/mudasirshafi/darknet/blob/master/Dicom_to_Jpg.ipynb\" target=\"_parent\"><img src=\"https://colab.research.google.com/assets/colab-badge.svg\" alt=\"Open In Colab\"/></a>"
      ]
    },
    {
      "cell_type": "code",
      "execution_count": null,
      "metadata": {
        "id": "u_D676rtFR6Q"
      },
      "outputs": [],
      "source": [
        "import pydicom as dicom\n",
        "import os\n",
        "import cv2\n",
        "import PIL # optional\n",
        "# make it True if you want in PNG format\n",
        "PNG = False\n",
        "# Specify the .dcm folder path\n",
        "folder_path = \"stage_1\"\n",
        "# Specify the output jpg/png folder path\n",
        "jpg_folder_path = \"JPG_test\"\n",
        "images_path = os.listdir(folder_path)\n",
        "for n, image in enumerate(images_path):\n",
        "    ds = dicom.dcmread(os.path.join(folder_path, image))\n",
        "    pixel_array_numpy = ds.pixel_array\n",
        "    if PNG == False:\n",
        "        image = image.replace('.dcm', '.jpg')\n",
        "    else:\n",
        "        image = image.replace('.dcm', '.png')\n",
        "    cv2.imwrite(os.path.join(jpg_folder_path, image), pixel_array_numpy)\n",
        "    if n % 50 == 0:\n",
        "        print('{} image converted'.format(n))"
      ]
    },
    {
      "cell_type": "code",
      "source": [
        "\n",
        "pip install pydicom"
      ],
      "metadata": {
        "colab": {
          "base_uri": "https://localhost:8080/"
        },
        "id": "umYLoBCMF4mw",
        "outputId": "dc945d96-1156-4455-b763-21cc565bb223"
      },
      "execution_count": 1,
      "outputs": [
        {
          "output_type": "stream",
          "name": "stdout",
          "text": [
            "Looking in indexes: https://pypi.org/simple, https://us-python.pkg.dev/colab-wheels/public/simple/\n",
            "Collecting pydicom\n",
            "  Downloading pydicom-2.3.0-py3-none-any.whl (2.0 MB)\n",
            "\u001b[K     |████████████████████████████████| 2.0 MB 26.6 MB/s \n",
            "\u001b[?25hInstalling collected packages: pydicom\n",
            "Successfully installed pydicom-2.3.0\n"
          ]
        }
      ]
    }
  ]
}